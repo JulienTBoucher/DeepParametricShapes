{
 "cells": [
  {
   "cell_type": "code",
   "execution_count": 67,
   "metadata": {},
   "outputs": [],
   "source": [
    "%matplotlib inline\n",
    "from imp import reload\n",
    "import pickle\n",
    "\n",
    "from matplotlib import pyplot as plt\n",
    "import numpy as np\n",
    "import torch as th\n",
    "from torch.utils.data import DataLoader\n",
    "import ttools\n",
    "\n",
    "from dps_3d import datasets, utils\n",
    "from dps_3d.interfaces import VectorizerInterface\n",
    "from dps_3d.models import PrimsModel"
   ]
  },
  {
   "cell_type": "code",
   "execution_count": 5,
   "metadata": {
    "collapsed": true
   },
   "outputs": [],
   "source": [
    "th.manual_seed(123)\n",
    "th.backends.cudnn.deterministic = True\n",
    "np.random.seed(123)"
   ]
  },
  {
   "cell_type": "code",
   "execution_count": 6,
   "metadata": {},
   "outputs": [],
   "source": [
    "data = datasets.ShapenetDataset('data/chairs', 64)\n",
    "dataloader = DataLoader(data)"
   ]
  },
  {
   "cell_type": "code",
   "execution_count": 7,
   "metadata": {
    "collapsed": true
   },
   "outputs": [],
   "source": [
    "model = PrimsModel(output_dim=11*16)"
   ]
  },
  {
   "cell_type": "code",
   "execution_count": 8,
   "metadata": {},
   "outputs": [
    {
     "data": {
      "text/plain": [
       "({'epoch': 191}, None)"
      ]
     },
     "execution_count": 8,
     "metadata": {},
     "output_type": "execute_result"
    }
   ],
   "source": [
    "checkpointer = ttools.Checkpointer('output/test', model)\n",
    "checkpointer.load_latest()"
   ]
  },
  {
   "cell_type": "code",
   "execution_count": 94,
   "metadata": {},
   "outputs": [
    {
     "data": {
      "text/plain": [
       "'100b18376b885f206ae9ad7e32c4139d'"
      ]
     },
     "execution_count": 94,
     "metadata": {},
     "output_type": "execute_result"
    }
   ],
   "source": [
    "x['fname']"
   ]
  },
  {
   "cell_type": "code",
   "execution_count": 102,
   "metadata": {},
   "outputs": [],
   "source": [
    "with th.no_grad():\n",
    "    x = data[3]\n",
    "    target_distance_fields = x['distance_fields']\n",
    "    target_occupancy_fields = x['occupancy_fields']\n",
    "    params = model(target_distance_fields[None,None])"
   ]
  },
  {
   "cell_type": "code",
   "execution_count": 103,
   "metadata": {},
   "outputs": [],
   "source": [
    "params = params.view(params.size(0), 16, -1).detach()\n",
    "params = th.cat([0.3*th.sigmoid(params[...,:3])+0.05,\n",
    "                 params[...,3:6],\n",
    "                 0.8*th.sigmoid(params[...,6:10])+0.1,\n",
    "                 th.sigmoid(params[...,10:])], dim=-1)"
   ]
  },
  {
   "cell_type": "code",
   "execution_count": 104,
   "metadata": {},
   "outputs": [],
   "source": [
    "distance_fields = utils.compute_distance_fields(params, 64,\n",
    "                                                df=utils.distance_to_rounded_cuboids).abs()\n",
    "distance_fields = distance_fields.min(1)[0]\n",
    "alignment_fields = utils.compute_alignment_fields(distance_fields)\n",
    "distance_fields = distance_fields[...,1:-1,1:-1,1:-1]\n",
    "occupancy_fields = utils.compute_occupancy_fields(distance_fields)"
   ]
  },
  {
   "cell_type": "code",
   "execution_count": 105,
   "metadata": {},
   "outputs": [
    {
     "data": {
      "text/plain": [
       "<matplotlib.image.AxesImage at 0x7f53b5d16828>"
      ]
     },
     "execution_count": 105,
     "metadata": {},
     "output_type": "execute_result"
    },
    {
     "data": {
      "image/png": "[encoded data removed]",
      "text/plain": [
       "<Figure size 432x288 with 1 Axes>"
      ]
     },
     "metadata": {},
     "output_type": "display_data"
    }
   ],
   "source": [
    "plt.imshow(occupancy_fields[0,:,32].detach())"
   ]
  },
  {
   "cell_type": "code",
   "execution_count": 106,
   "metadata": {},
   "outputs": [
    {
     "data": {
      "text/plain": [
       "<matplotlib.image.AxesImage at 0x7f53b5cec748>"
      ]
     },
     "execution_count": 106,
     "metadata": {},
     "output_type": "execute_result"
    },
    {
     "data": {
      "image/png": "[encoded data removed]",
      "text/plain": [
       "<Figure size 432x288 with 1 Axes>"
      ]
     },
     "metadata": {},
     "output_type": "display_data"
    }
   ],
   "source": [
    "plt.imshow(target_occupancy_fields[:,32].detach())"
   ]
  },
  {
   "cell_type": "code",
   "execution_count": 109,
   "metadata": {},
   "outputs": [
    {
     "name": "stdout",
     "output_type": "stream",
     "text": [
      "[0.9999994]\n",
      "[0.7818681]\n",
      "[0.9999993]\n",
      "[0.85044235]\n",
      "[0.9999993]\n",
      "[0.8621042]\n",
      "[0.9999995]\n",
      "[0.9999999]\n",
      "[0.9059778]\n",
      "[0.99999964]\n",
      "[0.9623116]\n",
      "[0.9999989]\n",
      "[0.37229034]\n",
      "[0.93950677]\n",
      "[0.9736396]\n",
      "[0.96766484]\n"
     ]
    }
   ],
   "source": [
    "primitives = []\n",
    "for p in params[0]:\n",
    "    b, q, T, r = (x.numpy() for x in th.split(p, [3, 4, 3, 1]))\n",
    "    q /= np.sqrt(np.sum(q**2))\n",
    "    primitives.append({\n",
    "        'translation': list(T),\n",
    "        'rotation': q,\n",
    "        'size': b,\n",
    "        'r': r\n",
    "    })"
   ]
  },
  {
   "cell_type": "code",
   "execution_count": 108,
   "metadata": {},
   "outputs": [],
   "source": [
    "pickle.dump(primitives, open('boxes', 'wb'))"
   ]
  },
  {
   "cell_type": "markdown",
   "metadata": {},
   "source": []
  }
 ],
 "metadata": {
  "kernelspec": {
   "display_name": "Python 3",
   "language": "python",
   "name": "python3"
  },
  "language_info": {
   "codemirror_mode": {
    "name": "ipython",
    "version": 3
   },
   "file_extension": ".py",
   "mimetype": "text/x-python",
   "name": "python",
   "nbconvert_exporter": "python",
   "pygments_lexer": "ipython3",
   "version": "3.6.9"
  }
 },
 "nbformat": 4,
 "nbformat_minor": 2
}
